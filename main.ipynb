{
  "cells": [
    {
      "cell_type": "markdown",
      "metadata": {
        "id": "zrlTQ4RsXU-V"
      },
      "source": [
        "# 2 - Fine-tuning Pretrained Transformers for PoS Tagging\n",
        "\n",
        "## Introduction\n",
        "\n",
        "In the previous notebook we showed how to use a BiLSTM with pretrained GloVe embeddings for PoS tagging. In this notebook we'll be using a pretrained [Transformer](https://arxiv.org/abs/1706.03762) model, specifically the pre-trained [BERT](https://arxiv.org/abs/1810.04805) model. Our model will be composed of the Transformer and a simple linear layer.\n",
        "\n",
        "## Preparing Data\n",
        "\n",
        "First, let's import the necessary Python modules.\n",
        "In google colab you will need to install the `transformers` library.\n",
        "\n",
        "```\n",
        "!pip install transformers\n",
        "```"
      ]
    },
    {
      "cell_type": "code",
      "execution_count": 1,
      "metadata": {
        "id": "pcLVRjnjXzg7"
      },
      "outputs": [
        {
          "name": "stdout",
          "output_type": "stream",
          "text": [
            "Defaulting to user installation because normal site-packages is not writeable\n",
            "Requirement already satisfied: torchtext in /home/vip/victor.henrique/.local/lib/python3.10/site-packages (0.6.0)\n",
            "Requirement already satisfied: tqdm in /home/vip/victor.henrique/.local/lib/python3.10/site-packages (from torchtext) (4.66.1)\n",
            "Requirement already satisfied: requests in /home/vip/victor.henrique/.local/lib/python3.10/site-packages (from torchtext) (2.31.0)\n",
            "Requirement already satisfied: torch in /home/vip/victor.henrique/.local/lib/python3.10/site-packages (from torchtext) (2.1.1)\n",
            "Requirement already satisfied: numpy in /home/vip/victor.henrique/.local/lib/python3.10/site-packages (from torchtext) (1.23.5)\n",
            "Requirement already satisfied: six in /usr/lib/python3/dist-packages (from torchtext) (1.16.0)\n",
            "Requirement already satisfied: sentencepiece in /home/vip/victor.henrique/.local/lib/python3.10/site-packages (from torchtext) (0.1.99)\n",
            "Requirement already satisfied: charset-normalizer<4,>=2 in /home/vip/victor.henrique/.local/lib/python3.10/site-packages (from requests->torchtext) (3.2.0)\n",
            "Requirement already satisfied: idna<4,>=2.5 in /usr/lib/python3/dist-packages (from requests->torchtext) (3.3)\n",
            "Requirement already satisfied: urllib3<3,>=1.21.1 in /usr/lib/python3/dist-packages (from requests->torchtext) (1.26.5)\n",
            "Requirement already satisfied: certifi>=2017.4.17 in /usr/lib/python3/dist-packages (from requests->torchtext) (2020.6.20)\n",
            "Requirement already satisfied: filelock in /home/vip/victor.henrique/.local/lib/python3.10/site-packages (from torch->torchtext) (3.12.0)\n",
            "Requirement already satisfied: typing-extensions in /home/vip/victor.henrique/.local/lib/python3.10/site-packages (from torch->torchtext) (4.5.0)\n",
            "Requirement already satisfied: sympy in /home/vip/victor.henrique/.local/lib/python3.10/site-packages (from torch->torchtext) (1.12)\n",
            "Requirement already satisfied: networkx in /home/vip/victor.henrique/.local/lib/python3.10/site-packages (from torch->torchtext) (3.2.1)\n",
            "Requirement already satisfied: jinja2 in /home/vip/victor.henrique/.local/lib/python3.10/site-packages (from torch->torchtext) (3.1.2)\n",
            "Requirement already satisfied: fsspec in /home/vip/victor.henrique/.local/lib/python3.10/site-packages (from torch->torchtext) (2023.10.0)\n",
            "Requirement already satisfied: nvidia-cuda-nvrtc-cu12==12.1.105 in /home/vip/victor.henrique/.local/lib/python3.10/site-packages (from torch->torchtext) (12.1.105)\n",
            "Requirement already satisfied: nvidia-cuda-runtime-cu12==12.1.105 in /home/vip/victor.henrique/.local/lib/python3.10/site-packages (from torch->torchtext) (12.1.105)\n",
            "Requirement already satisfied: nvidia-cuda-cupti-cu12==12.1.105 in /home/vip/victor.henrique/.local/lib/python3.10/site-packages (from torch->torchtext) (12.1.105)\n",
            "Requirement already satisfied: nvidia-cudnn-cu12==8.9.2.26 in /home/vip/victor.henrique/.local/lib/python3.10/site-packages (from torch->torchtext) (8.9.2.26)\n",
            "Requirement already satisfied: nvidia-cublas-cu12==12.1.3.1 in /home/vip/victor.henrique/.local/lib/python3.10/site-packages (from torch->torchtext) (12.1.3.1)\n",
            "Requirement already satisfied: nvidia-cufft-cu12==11.0.2.54 in /home/vip/victor.henrique/.local/lib/python3.10/site-packages (from torch->torchtext) (11.0.2.54)\n",
            "Requirement already satisfied: nvidia-curand-cu12==10.3.2.106 in /home/vip/victor.henrique/.local/lib/python3.10/site-packages (from torch->torchtext) (10.3.2.106)\n",
            "Requirement already satisfied: nvidia-cusolver-cu12==11.4.5.107 in /home/vip/victor.henrique/.local/lib/python3.10/site-packages (from torch->torchtext) (11.4.5.107)\n",
            "Requirement already satisfied: nvidia-cusparse-cu12==12.1.0.106 in /home/vip/victor.henrique/.local/lib/python3.10/site-packages (from torch->torchtext) (12.1.0.106)\n",
            "Requirement already satisfied: nvidia-nccl-cu12==2.18.1 in /home/vip/victor.henrique/.local/lib/python3.10/site-packages (from torch->torchtext) (2.18.1)\n",
            "Requirement already satisfied: nvidia-nvtx-cu12==12.1.105 in /home/vip/victor.henrique/.local/lib/python3.10/site-packages (from torch->torchtext) (12.1.105)\n",
            "Requirement already satisfied: triton==2.1.0 in /home/vip/victor.henrique/.local/lib/python3.10/site-packages (from torch->torchtext) (2.1.0)\n",
            "Requirement already satisfied: nvidia-nvjitlink-cu12 in /home/vip/victor.henrique/.local/lib/python3.10/site-packages (from nvidia-cusolver-cu12==11.4.5.107->torch->torchtext) (12.3.101)\n",
            "Requirement already satisfied: MarkupSafe>=2.0 in /home/vip/victor.henrique/.local/lib/python3.10/site-packages (from jinja2->torch->torchtext) (2.1.2)\n",
            "Requirement already satisfied: mpmath>=0.19 in /home/vip/victor.henrique/.local/lib/python3.10/site-packages (from sympy->torch->torchtext) (1.3.0)\n",
            "\u001b[33mDEPRECATION: distro-info 1.1build1 has a non-standard version number. pip 24.0 will enforce this behaviour change. A possible replacement is to upgrade to a newer version of distro-info or contact the author to suggest that they release a version with a conforming version number. Discussion can be found at https://github.com/pypa/pip/issues/12063\u001b[0m\u001b[33m\n",
            "\u001b[0m\u001b[33mDEPRECATION: python-debian 0.1.43ubuntu1 has a non-standard version number. pip 24.0 will enforce this behaviour change. A possible replacement is to upgrade to a newer version of python-debian or contact the author to suggest that they release a version with a conforming version number. Discussion can be found at https://github.com/pypa/pip/issues/12063\u001b[0m\u001b[33m\n",
            "\u001b[0mNote: you may need to restart the kernel to use updated packages.\n"
          ]
        }
      ],
      "source": [
        "# %pip install torchtext"
      ]
    },
    {
      "cell_type": "code",
      "execution_count": 3,
      "metadata": {
        "id": "wb-cNA1mXU-W"
      },
      "outputs": [
        {
          "name": "stdout",
          "output_type": "stream",
          "text": [
            "0.6.0\n"
          ]
        }
      ],
      "source": [
        "import torch\n",
        "import torchtext\n",
        "print(torchtext.__version__)\n",
        "import torch.nn as nn\n",
        "import torch.nn.functional as F\n",
        "import torch.optim as optim\n",
        "\n",
        "from torchtext import data\n",
        "from torchtext import datasets\n",
        "from torchtext.data import Example, Dataset\n",
        "\n",
        "from transformers import BertTokenizer, BertModel\n",
        "\n",
        "import numpy as np\n",
        "\n",
        "import time\n",
        "import random\n",
        "import functools\n",
        "\n",
        "import os\n",
        "\n",
        "from datasets import load_dataset"
      ]
    },
    {
      "cell_type": "markdown",
      "metadata": {
        "id": "UkjeMGfgXU-b"
      },
      "source": [
        "Next, we'll set the random seeds for reproducability."
      ]
    },
    {
      "cell_type": "code",
      "execution_count": 253,
      "metadata": {
        "id": "gv-PYbIUXU-b"
      },
      "outputs": [],
      "source": [
        "SEED = 1234\n",
        "\n",
        "random.seed(SEED)\n",
        "np.random.seed(SEED)\n",
        "torch.manual_seed(SEED)\n",
        "torch.backends.cudnn.deterministic = True"
      ]
    },
    {
      "cell_type": "markdown",
      "metadata": {
        "id": "Jj4DBdJ4XU-e"
      },
      "source": [
        "Then, we'll import the BERT tokenizer. This defines how text into the model should be processed, but more importantly contains the vocabulary that the BERT model was pretrained with. We'll be using the `bert-base-uncased` tokenizer and model. This was trained on text that has been lowercased.\n",
        "\n",
        "In order to use pretrained models for NLP the vocabulary used needs to exactly match that of the pretrained model."
      ]
    },
    {
      "cell_type": "code",
      "execution_count": 254,
      "metadata": {
        "id": "nS2XMkfxXU-f"
      },
      "outputs": [],
      "source": [
        "tokenizer = BertTokenizer.from_pretrained('neuralmind/bert-base-portuguese-cased')"
      ]
    },
    {
      "cell_type": "markdown",
      "metadata": {
        "id": "h9lRko1PXU-i"
      },
      "source": [
        "Another thing that we need to do is make sure the input sequence is formatted in the same way in which the BERT model was trained. \n",
        "\n",
        "BERT was trained on sequences that begin with a `[CLS]` token.\n",
        "\n",
        "So the sequence of tokens\n",
        "\n",
        "```python\n",
        "text = ['jack', 'went', 'to', 'the', 'shop']\n",
        "```\n",
        "\n",
        "should become:\n",
        "\n",
        "```python\n",
        "text = ['[CLS]', 'jack', 'went', 'to', 'the', 'shop']\n",
        "```\n",
        "\n",
        "Along with making our vocabularies match we also need to make sure our padding and unk tokens match those used in the pretrained model. By default TorchText uses `<pad>` and `<unk>`, but the BERT model uses `[PAD]` and `[UNK]`.\n",
        "\n",
        "Let's get the special tokens:"
      ]
    },
    {
      "cell_type": "code",
      "execution_count": 255,
      "metadata": {
        "colab": {
          "base_uri": "https://localhost:8080/"
        },
        "id": "bJ7kwurvXU-j",
        "outputId": "a33dfcc5-24c4-4205-8035-f461f4861f2e"
      },
      "outputs": [
        {
          "name": "stdout",
          "output_type": "stream",
          "text": [
            "[CLS] [PAD] [UNK]\n"
          ]
        }
      ],
      "source": [
        "init_token = tokenizer.cls_token\n",
        "pad_token = tokenizer.pad_token\n",
        "unk_token = tokenizer.unk_token\n",
        "\n",
        "print(init_token, pad_token, unk_token)"
      ]
    },
    {
      "cell_type": "markdown",
      "metadata": {
        "id": "O5ftgTExXU-n"
      },
      "source": [
        "We are mainly interested in the actual integer representations of the special tokens. This is because we aren't using TorchText's vocabulary module, but using the one provided by the pretrained model. \n",
        "\n",
        "We get the indexes of the special tokens by passing them through the tokenizer's `convert_tokens_to_ids` function."
      ]
    },
    {
      "cell_type": "code",
      "execution_count": 256,
      "metadata": {
        "colab": {
          "base_uri": "https://localhost:8080/"
        },
        "id": "B4TdEVVWXU-n",
        "outputId": "66c92f9e-dc0f-4f9d-f3b7-9cd17506f9f9"
      },
      "outputs": [
        {
          "name": "stdout",
          "output_type": "stream",
          "text": [
            "101 0 100\n"
          ]
        }
      ],
      "source": [
        "init_token_idx = tokenizer.convert_tokens_to_ids(init_token)\n",
        "pad_token_idx = tokenizer.convert_tokens_to_ids(pad_token)\n",
        "unk_token_idx = tokenizer.convert_tokens_to_ids(unk_token)\n",
        "\n",
        "print(init_token_idx, pad_token_idx, unk_token_idx)"
      ]
    },
    {
      "cell_type": "markdown",
      "metadata": {
        "id": "V0XDkA4aXU-r"
      },
      "source": [
        "One other thing is that the pretrained model was trained on sequences up to a maximum length and we need to ensure that our sequences are also trimmed to this length."
      ]
    },
    {
      "cell_type": "code",
      "execution_count": 257,
      "metadata": {
        "colab": {
          "base_uri": "https://localhost:8080/"
        },
        "id": "zrAoyoYCXU-r",
        "outputId": "a60dc870-1f80-4568-f9ef-8001fff16a56"
      },
      "outputs": [
        {
          "name": "stdout",
          "output_type": "stream",
          "text": [
            "512\n"
          ]
        }
      ],
      "source": [
        "max_input_length = tokenizer.max_model_input_sizes['bert-base-uncased']\n",
        "\n",
        "print(max_input_length)"
      ]
    },
    {
      "cell_type": "markdown",
      "metadata": {
        "id": "KD_ChHl0XU-v"
      },
      "source": [
        "Next, we'll define two helper functions that make use of our vocabulary.\n",
        "\n",
        "The first will cut the sequence of tokens to the desired maximum length, specified by our pretrained model, and then convert the tokens into indexes by passing them through the vocabulary. This is what we will use on our input sequence we want to tag.\n",
        "\n",
        "Note that we actually cut tokens to `max_input_length-1`, this is because we need to add the special `[CLS]` token to the start of the sequence."
      ]
    },
    {
      "cell_type": "code",
      "execution_count": 258,
      "metadata": {
        "id": "G_Xjhu3jXU-v"
      },
      "outputs": [],
      "source": [
        "def cut_and_convert_to_id(tokens, tokenizer, max_input_length):\n",
        "    tokens = tokens[:max_input_length-1]\n",
        "    tokens = [tokenizer.convert_tokens_to_ids(token) \n",
        "              if token in tokenizer.vocab \n",
        "              else tokenizer.convert_tokens_to_ids('<unk>') \n",
        "              for token in tokens]\n",
        "    return tokens"
      ]
    },
    {
      "cell_type": "markdown",
      "metadata": {
        "id": "TIOm0RK-XU-y"
      },
      "source": [
        "The second helper function simply cuts the sequence to the maximum length. This is used for our tags. We do not pass the tags through pretrained model's vocabulary as the vocab was only built for English sentences, and not for part-of-speech tags. We will be building the tag vocabulary ourselves."
      ]
    },
    {
      "cell_type": "code",
      "execution_count": 259,
      "metadata": {
        "id": "TumdN5LnXU-0"
      },
      "outputs": [],
      "source": [
        "def cut_to_max_length(tokens, max_input_length):\n",
        "    tokens = tokens[:max_input_length-1]\n",
        "    return tokens"
      ]
    },
    {
      "cell_type": "markdown",
      "metadata": {
        "id": "zK5u89DMXU-3"
      },
      "source": [
        "We need to pass the above two functions to the `Field`, the TorchText abstraction that handles a lot of the data processing for us. We make use of Python's `functools` that allow us to pass functions which already have some of their arguments supplied. "
      ]
    },
    {
      "cell_type": "code",
      "execution_count": 260,
      "metadata": {
        "id": "6dgaT_fjXU-3"
      },
      "outputs": [],
      "source": [
        "text_preprocessor = functools.partial(cut_and_convert_to_id,\n",
        "                                      tokenizer = tokenizer,\n",
        "                                      max_input_length = max_input_length)\n",
        "\n",
        "tag_preprocessor = functools.partial(cut_to_max_length,\n",
        "                                     max_input_length = max_input_length)"
      ]
    },
    {
      "cell_type": "markdown",
      "metadata": {
        "id": "hpnVGVgMXU-6"
      },
      "source": [
        "Next, we define our fields.\n",
        "\n",
        "For the `TEXT` field, which will be processing the sequences we want to tag, we first tell TorchText that we do not want to use a vocabulary with `use_vocab = False`. As our model is `uncased`, we also want to ensure all text is lowercased with `lower=True`. The `preprocessing` argument is a function applied to sequences after they have been tokenized, but before they are numericalized. As we have set `use_vocab` to false, they will never actually be numericalized, and as we are using TorchText's POS datasets they have also already been tokenized - so the argument to this will just be applied to the sequence of tokens. This is where our help functions from above come in handy and `text_preprocessor` will both numericalize our data using the pretrained model's vocabulary, as well as cutting it to the maximum length. The remaining four arguments define the special tokens required by the pretrained model.\n",
        "\n",
        "For the `UD_TAGS` field, we need to ensure the length of our tags matches the length of our text sequence. As we have added a `[CLS]` token to the beginning of the text sequence, we need to do the same with the sequence of tags. We do this by adding a `<pad>` token to the beginning which we will later tell our model to not use when calculating losses or accuracy. We won't have unknown tags in our sequence of tags, so we set the `unk_token` to `None`. Finally, we pass our `tag_preprocessor` defined above, which simply cuts the tags to the maximum length our pretrained model can handle."
      ]
    },
    {
      "cell_type": "code",
      "execution_count": 261,
      "metadata": {
        "id": "LhJEvvF3XU-6"
      },
      "outputs": [],
      "source": [
        "TEXT = data.Field(use_vocab = False,\n",
        "                  lower = True,\n",
        "                  preprocessing = text_preprocessor,\n",
        "                  init_token = init_token_idx,\n",
        "                  pad_token = pad_token_idx,\n",
        "                  unk_token = unk_token_idx)\n",
        "\n",
        "UD_TAGS = data.Field(unk_token = None,\n",
        "                     init_token = '<pad>',\n",
        "                     preprocessing = tag_preprocessor)"
      ]
    },
    {
      "cell_type": "markdown",
      "metadata": {
        "id": "M_1UotuUXU--"
      },
      "source": [
        "Then, we define which of our fields defined above correspond to which fields in the dataset."
      ]
    },
    {
      "cell_type": "code",
      "execution_count": 262,
      "metadata": {
        "id": "RrTXFdSgXU--"
      },
      "outputs": [],
      "source": [
        "fields = ((\"tokens\", TEXT), (\"pos_tags\", UD_TAGS))"
      ]
    },
    {
      "cell_type": "markdown",
      "metadata": {
        "id": "xJotJpLIXU_B"
      },
      "source": [
        "Next, we load the data using our fields."
      ]
    },
    {
      "cell_type": "code",
      "execution_count": 296,
      "metadata": {
        "id": "gn7OmDceXU_C"
      },
      "outputs": [
        {
          "name": "stdout",
          "output_type": "stream",
          "text": [
            "37948\n",
            "1997\n",
            "9987\n"
          ]
        }
      ],
      "source": [
        "def toPytorchDataset(dataset, train_set=None):\n",
        "    dataset = [(example['tokens'], example['pos_tags']) for example in dataset]\n",
        "\n",
        "    examples = [Example.fromlist([text, tags], fields=[('text', TEXT), ('udtags', UD_TAGS)]) for text, tags in dataset]\n",
        "    dataset = Dataset(examples, fields=[('text', TEXT), ('udtags', UD_TAGS)])\n",
        "\n",
        "    return dataset\n",
        "\n",
        "nb_training_samples = 50\n",
        "nb_validation_samples = int(nb_training_samples * 0.05)\n",
        "# nb_validation_samples = 50\n",
        "nb_test_samples = int(nb_training_samples * 0.25)\n",
        "# nb_test_samples = 50\n",
        "\n",
        "dataset = load_dataset('mac_morpho')\n",
        "# train_data_raw = dataset['train'].select(range(nb_training_samples))\n",
        "train_data_raw = dataset['train']\n",
        "# valid_data_raw = dataset['validation'].select(range(nb_validation_samples))\n",
        "valid_data_raw = dataset['validation']\n",
        "# test_data_raw = dataset['test'].select(range(nb_test_samples))\n",
        "test_data_raw = dataset['test']\n",
        "\n",
        "train_data = toPytorchDataset(train_data_raw)\n",
        "valid_data = toPytorchDataset(valid_data_raw, train_set=train_data_raw)\n",
        "test_data = toPytorchDataset(test_data_raw, train_set=train_data_raw)\n",
        "\n",
        "print(len(train_data.examples))\n",
        "print(len(valid_data.examples))\n",
        "print(len(test_data.examples))\n"
      ]
    },
    {
      "cell_type": "markdown",
      "metadata": {
        "id": "cPhIecHJXU_E"
      },
      "source": [
        "We can check an example by printing it. As we have already numericalized our `text` using the vocabulary of the pretrained model, it is already a sequence of integers. The tags have yet to be numericalized. "
      ]
    },
    {
      "cell_type": "code",
      "execution_count": 297,
      "metadata": {
        "colab": {
          "base_uri": "https://localhost:8080/"
        },
        "id": "jNLMuA22XU_E",
        "outputId": "71c82895-04d3-4e3a-f47a-282815006351"
      },
      "outputs": [
        {
          "name": "stdout",
          "output_type": "stream",
          "text": [
            "{'text': [100, 11903, 2517, 125, 100, 100, 6271, 229, 5304, 180, 100, 173, 453, 100, 119], 'udtags': [14, 19, 14, 15, 22, 7, 14, 9, 14, 9, 3, 15, 3, 3, 24]}\n"
          ]
        }
      ],
      "source": [
        "print(vars(train_data.examples[0]))"
      ]
    },
    {
      "cell_type": "markdown",
      "metadata": {
        "id": "J3HiRqq8XU_H"
      },
      "source": [
        "Our next step is to build the tag vocabulary so they can be numericalized during training. We do this by using the field's `.build_vocab` method on the `train_data`."
      ]
    },
    {
      "cell_type": "code",
      "execution_count": 298,
      "metadata": {
        "colab": {
          "base_uri": "https://localhost:8080/"
        },
        "id": "klpqOEHJXU_I",
        "outputId": "21035e0f-1143-4b35-a324-4198cdff9f7d"
      },
      "outputs": [
        {
          "name": "stdout",
          "output_type": "stream",
          "text": [
            "defaultdict(None, {'<pad>': 0, 14: 1, 24: 2, 19: 3, 3: 4, 15: 5, 25: 6, 9: 7, 12: 8, 23: 9, 5: 10, 21: 11, 7: 12, 8: 13, 10: 14, 11: 15, 6: 16, 16: 17, 18: 18, 22: 19, 0: 20, 13: 21, 4: 22, 17: 23, 1: 24, 2: 25, 20: 26})\n"
          ]
        }
      ],
      "source": [
        "UD_TAGS.build_vocab(train_data)\n",
        "\n",
        "print(UD_TAGS.vocab.stoi)"
      ]
    },
    {
      "cell_type": "markdown",
      "metadata": {
        "id": "pFetOpw2XU_L"
      },
      "source": [
        "Next, we'll define our iterators. This will define how batches of data are provided when training. We set a batch size and define `device`, which will automatically put our batch on to the GPU, if we have one.\n",
        "\n",
        "The BERT model is quite large, so the batch size here is usually smaller than usual. However, the BERT paper itself mentions how they also fine-tuned using small batch sizes, so this shouldn't cause too much of an issue."
      ]
    },
    {
      "cell_type": "code",
      "execution_count": 299,
      "metadata": {
        "id": "BgIEyEkpXU_M"
      },
      "outputs": [],
      "source": [
        "def sort_key(example):\n",
        "    return len(example.text)\n",
        "\n",
        "BATCH_SIZE = 32\n",
        "device = torch.device('cpu' if torch.cuda.is_available() else 'cpu')\n",
        "\n",
        "train_iterator, valid_iterator, test_iterator = data.BucketIterator.splits(\n",
        "    (train_data, valid_data, test_data), \n",
        "    batch_size = BATCH_SIZE,\n",
        "    device = device,\n",
        "    sort_key = sort_key)"
      ]
    },
    {
      "cell_type": "markdown",
      "metadata": {
        "id": "gROHWG7tXU_P"
      },
      "source": [
        "## Building the Model\n",
        "\n",
        "Next up is defining our model. The model is relatively simple, with all of the complicated parts contained inside the BERT module which we do not have to worry about. We can think of the BERT as an embedding layer and all we do is add a linear layer on top of these embeddings to predict the tag for each token in the input sequence. \n",
        "\n",
        "![](https://github.com/bentrevett/pytorch-pos-tagging/blob/master/assets/pos-bert.png?raw=1)\n",
        "\n",
        "Previously the yellow squares were the embeddings provided by the embedding layer, but now they are embeddings provided by the pretrained BERT model. All inputs are passed to BERT at the same time. The arrows between the BERT embeddings indicate how BERT does not calculate embeddings for each tokens individually, but the embeddings are actually based off the other tokens within the sequence. We say the embeddings are *contextualized*.\n",
        "\n",
        "One thing to note is that we do not define an `embedding_dim` for our model, it is the size of the output of the pretrained BERT model and we cannot change it. Thus, we simply get the `embedding_dim` from the model's `hidden_size` attribute.\n",
        "\n",
        "BERT also wants sequences with the batch element first, hence we permute our input sequence before passing it to BERT."
      ]
    },
    {
      "cell_type": "code",
      "execution_count": 300,
      "metadata": {
        "id": "0bYCKE0xXU_P"
      },
      "outputs": [],
      "source": [
        "class BERTPoSTagger(nn.Module):\n",
        "    def __init__(self,\n",
        "                 bert,\n",
        "                 output_dim, \n",
        "                 dropout):\n",
        "        \n",
        "        super().__init__()\n",
        "        \n",
        "        self.bert = bert\n",
        "        \n",
        "        embedding_dim = bert.config.to_dict()['hidden_size']\n",
        "        \n",
        "        self.fc = nn.Linear(embedding_dim, output_dim)\n",
        "        \n",
        "        self.dropout = nn.Dropout(dropout)\n",
        "        \n",
        "    def forward(self, text):\n",
        "  \n",
        "        #text = [sent len, batch size]\n",
        "    \n",
        "        text = text.permute(1, 0)\n",
        "        \n",
        "        #text = [batch size, sent len]\n",
        "        \n",
        "        embedded = self.dropout(self.bert(text)[0])\n",
        "        \n",
        "        #embedded = [batch size, seq len, emb dim]\n",
        "                \n",
        "        embedded = embedded.permute(1, 0, 2)\n",
        "                    \n",
        "        #embedded = [sent len, batch size, emb dim]\n",
        "        \n",
        "        predictions = self.fc(self.dropout(embedded))\n",
        "        \n",
        "        #predictions = [sent len, batch size, output dim]\n",
        "        \n",
        "        return predictions"
      ]
    },
    {
      "cell_type": "markdown",
      "metadata": {
        "id": "JjnJmG9xXU_S"
      },
      "source": [
        "Next, we load the actual pretrained BERT uncased model - before we only loaded the tokenizer associated with the model.\n",
        "\n",
        "The first time we run this it will have to download the pretrained parameters."
      ]
    },
    {
      "cell_type": "code",
      "execution_count": 301,
      "metadata": {
        "colab": {
          "base_uri": "https://localhost:8080/"
        },
        "id": "q473f0kAXU_S",
        "outputId": "c960844c-b851-4480-e8c5-e6ce96c8b15f"
      },
      "outputs": [],
      "source": [
        "bert = BertModel.from_pretrained('neuralmind/bert-base-portuguese-cased')"
      ]
    },
    {
      "cell_type": "markdown",
      "metadata": {
        "id": "l6ObUIfAXU_V"
      },
      "source": [
        "## Training the Model\n",
        "\n",
        "We finally get to instantiate our model - a simple linear model using BERT model to get word embeddings.\n",
        "\n",
        "Best of all, the only hyperparameter is dropout! This value has been chosen as it's a sensibile value, so there may be a better value of dropout available."
      ]
    },
    {
      "cell_type": "code",
      "execution_count": 302,
      "metadata": {
        "id": "oS-roKk0XU_V"
      },
      "outputs": [],
      "source": [
        "OUTPUT_DIM = len(UD_TAGS.vocab)\n",
        "DROPOUT = 0.25\n",
        "\n",
        "model = BERTPoSTagger(bert,\n",
        "                      OUTPUT_DIM, \n",
        "                      DROPOUT)"
      ]
    },
    {
      "cell_type": "markdown",
      "metadata": {
        "id": "cca5GGf-XU_Y"
      },
      "source": [
        "We can then count the number of trainable parameters. This includes the linear layer and all of the BERT parameters."
      ]
    },
    {
      "cell_type": "code",
      "execution_count": 303,
      "metadata": {
        "colab": {
          "base_uri": "https://localhost:8080/"
        },
        "id": "UHh9fi8rXU_Y",
        "outputId": "fe1109f8-153a-4661-b04c-fabcfe75b37e"
      },
      "outputs": [
        {
          "name": "stdout",
          "output_type": "stream",
          "text": [
            "The model has 108,943,899 trainable parameters\n"
          ]
        }
      ],
      "source": [
        "def count_parameters(model):\n",
        "    return sum(p.numel() for p in model.parameters() if p.requires_grad)\n",
        "\n",
        "print('The model has {:,} trainable parameters'.format(count_parameters(model)))"
      ]
    },
    {
      "cell_type": "markdown",
      "metadata": {
        "id": "OTHMkwdlXU_b"
      },
      "source": [
        "Next, we define our optimizer. Usually when fine-tuning you want to use a lower learning rate than normal, this is because we don't want to drastically change the parameters as it may cause our model to forget what it has learned. This phenomenon is called catastrophic forgetting.\n",
        "\n",
        "We pick 5e-5 (0.00005) as it is one of the three values recommended in the BERT paper. Again, there may be better values for this dataset."
      ]
    },
    {
      "cell_type": "code",
      "execution_count": 304,
      "metadata": {
        "id": "6qIKZQ2EXU_b"
      },
      "outputs": [],
      "source": [
        "LEARNING_RATE = 5e-5\n",
        "\n",
        "optimizer = optim.Adam(model.parameters(), lr = LEARNING_RATE)"
      ]
    },
    {
      "cell_type": "markdown",
      "metadata": {
        "id": "wsqFKO5-XU_e"
      },
      "source": [
        "The rest of the notebook is pretty similar to before.\n",
        "\n",
        "We define a loss function, making sure to ignore losses whenever the target tag is a padding token."
      ]
    },
    {
      "cell_type": "code",
      "execution_count": 305,
      "metadata": {
        "id": "YJUz954cXU_e"
      },
      "outputs": [],
      "source": [
        "TAG_PAD_IDX = UD_TAGS.vocab.stoi[UD_TAGS.pad_token]\n",
        "\n",
        "criterion = nn.CrossEntropyLoss(ignore_index = TAG_PAD_IDX)"
      ]
    },
    {
      "cell_type": "markdown",
      "metadata": {
        "id": "GGNagpu6XU_i"
      },
      "source": [
        "Then, we place the model on to the GPU, if we have one."
      ]
    },
    {
      "cell_type": "code",
      "execution_count": 306,
      "metadata": {
        "id": "9Ur1XIJQXU_j"
      },
      "outputs": [],
      "source": [
        "model = model.to(device)\n",
        "criterion = criterion.to(device)"
      ]
    },
    {
      "cell_type": "markdown",
      "metadata": {
        "id": "heUYqdiHXU_l"
      },
      "source": [
        "Like in the previous tutorial, we define a function which calculates our accuracy of predicting tags, ignoring predictions over padding tokens."
      ]
    },
    {
      "cell_type": "code",
      "execution_count": 307,
      "metadata": {
        "id": "tvxKXAO5XU_m"
      },
      "outputs": [],
      "source": [
        "def categorical_accuracy(preds, y, tag_pad_idx):\n",
        "    \"\"\"\n",
        "    Returns accuracy per batch, i.e. if you get 8/10 right, this returns 0.8, NOT 8\n",
        "    \"\"\"\n",
        "    max_preds = preds.argmax(dim = 1, keepdim = True) # get the index of the max probability\n",
        "    non_pad_elements = (y != tag_pad_idx).nonzero()\n",
        "    correct = max_preds[non_pad_elements].squeeze(1).eq(y[non_pad_elements])\n",
        "    return correct.sum() / torch.FloatTensor([y[non_pad_elements].shape[0]]).to(device)"
      ]
    },
    {
      "cell_type": "markdown",
      "metadata": {
        "id": "i5G_0OckXU_o"
      },
      "source": [
        "We then define our `train` and `evaluate` functions to train and test our model. "
      ]
    },
    {
      "cell_type": "code",
      "execution_count": 308,
      "metadata": {
        "id": "mk9vFsMuXU_p"
      },
      "outputs": [],
      "source": [
        "def train(model, iterator, optimizer, criterion, tag_pad_idx):\n",
        "    \n",
        "    epoch_loss = 0\n",
        "    epoch_acc = 0\n",
        "    \n",
        "    model.train()\n",
        "    \n",
        "    for batch in iterator:\n",
        "        try:\n",
        "        \n",
        "            text = batch.text\n",
        "            tags = batch.udtags\n",
        "                    \n",
        "            optimizer.zero_grad()\n",
        "            \n",
        "            #text = [sent len, batch size]\n",
        "            \n",
        "            predictions = model(text)\n",
        "            \n",
        "            #predictions = [sent len, batch size, output dim]\n",
        "            #tags = [sent len, batch size]\n",
        "            \n",
        "            predictions = predictions.view(-1, predictions.shape[-1])\n",
        "            tags = tags.view(-1)\n",
        "            \n",
        "            #predictions = [sent len * batch size, output dim]\n",
        "            #tags = [sent len * batch size]\n",
        "            \n",
        "            loss = criterion(predictions, tags)\n",
        "                    \n",
        "            acc = categorical_accuracy(predictions, tags, tag_pad_idx)\n",
        "            \n",
        "            loss.backward()\n",
        "            \n",
        "            optimizer.step()\n",
        "            \n",
        "            epoch_loss += loss.item()\n",
        "            epoch_acc += acc.item()\n",
        "\n",
        "        except KeyError:\n",
        "            continue\n",
        "            \n",
        "    return epoch_loss / len(iterator), epoch_acc / len(iterator)"
      ]
    },
    {
      "cell_type": "code",
      "execution_count": 309,
      "metadata": {
        "id": "SMz_0UzGXU_s"
      },
      "outputs": [],
      "source": [
        "def evaluate(model, iterator, criterion, tag_pad_idx):\n",
        "    \n",
        "    epoch_loss = 0\n",
        "    epoch_acc = 0\n",
        "    \n",
        "    model.eval()\n",
        "    \n",
        "    with torch.no_grad():\n",
        "    \n",
        "        for batch in iterator:\n",
        "            \n",
        "            try:\n",
        "                text = batch.text\n",
        "                tags = batch.udtags\n",
        "                \n",
        "                predictions = model(text)\n",
        "                \n",
        "                predictions = predictions.view(-1, predictions.shape[-1])\n",
        "                tags = tags.view(-1)\n",
        "                \n",
        "                loss = criterion(predictions, tags)\n",
        "                \n",
        "                acc = categorical_accuracy(predictions, tags, tag_pad_idx)\n",
        "\n",
        "                epoch_loss += loss.item()\n",
        "                epoch_acc += acc.item()\n",
        "            \n",
        "            except KeyError:\n",
        "                continue\n",
        "            \n",
        "    return epoch_loss / len(iterator), epoch_acc / len(iterator)"
      ]
    },
    {
      "cell_type": "markdown",
      "metadata": {
        "id": "8D4CqQNNXU_v"
      },
      "source": [
        "Then, we define a helper function used to see how long an epoch takes."
      ]
    },
    {
      "cell_type": "code",
      "execution_count": 310,
      "metadata": {
        "id": "57McNtpWXU_v"
      },
      "outputs": [],
      "source": [
        "def epoch_time(start_time, end_time):\n",
        "    elapsed_time = end_time - start_time\n",
        "    elapsed_mins = int(elapsed_time / 60)\n",
        "    elapsed_secs = int(elapsed_time - (elapsed_mins * 60))\n",
        "    return elapsed_mins, elapsed_secs"
      ]
    },
    {
      "cell_type": "markdown",
      "metadata": {
        "id": "TSYdBkOrXU_y"
      },
      "source": [
        "Finally, we can train our model!\n",
        "\n",
        "This model takes a considerable amount of time per epoch compared to the last model as the number of parameters is significantly higher. However, we beat the performance of our last model after only 2 epochs which takes around 2 minutes."
      ]
    },
    {
      "cell_type": "code",
      "execution_count": 311,
      "metadata": {
        "colab": {
          "base_uri": "https://localhost:8080/"
        },
        "id": "7F53iNXOXU_y",
        "outputId": "388280c3-2f14-413b-9b6e-047cf051f62d"
      },
      "outputs": [],
      "source": [
        "model_path = 'models/pos-tagging-model.pt'\n",
        "\n",
        "with open(model_path, 'rb') as f:\n",
        "    model.load_state_dict(torch.load(f))\n",
        "\n",
        "# N_EPOCHS = 10\n",
        "# best_valid_loss = float('inf')\n",
        "\n",
        "# for epoch in range(N_EPOCHS):\n",
        "#     start_time = time.time()\n",
        "    \n",
        "#     train_loss, train_acc = train(model, train_iterator, optimizer, criterion, TAG_PAD_IDX)\n",
        "#     valid_loss, valid_acc = evaluate(model, valid_iterator, criterion, TAG_PAD_IDX)\n",
        "    \n",
        "#     end_time = time.time()\n",
        "\n",
        "#     epoch_mins, epoch_secs = epoch_time(start_time, end_time)\n",
        "    \n",
        "#     if valid_loss < best_valid_loss:\n",
        "#         best_valid_loss = valid_loss\n",
        "#         torch.save(model.state_dict(), model_path)\n",
        "    \n",
        "#     print('Epoch: %02d | Epoch Time: %dm %ds' % (epoch+1, epoch_mins, epoch_secs))\n",
        "#     print('\\tTrain Loss: %.3f | Train Acc: %.2f%%' % (train_loss, train_acc*100))\n",
        "#     print('\\t Val. Loss: %.3f |  Val. Acc: %.2f%%' % (valid_loss, valid_acc*100))"
      ]
    },
    {
      "cell_type": "markdown",
      "metadata": {
        "id": "yi8JGgQ_XU_1"
      },
      "source": [
        "We can then load our \"best\" performing model and try it out on the test set. \n",
        "\n",
        "We beat our previous model by 2%!"
      ]
    },
    {
      "cell_type": "code",
      "execution_count": null,
      "metadata": {
        "colab": {
          "base_uri": "https://localhost:8080/"
        },
        "id": "ea6wyOs_XU_1",
        "outputId": "935315fa-d552-4194-d29a-006317e9ae32"
      },
      "outputs": [],
      "source": [
        "# model.load_state_dict(torch.load(model_path))\n",
        "\n",
        "# test_loss, test_acc = evaluate(model, test_iterator, criterion, TAG_PAD_IDX)\n",
        "\n",
        "# print('Test Loss: %.3f | Test Acc: %.2f%%' % (test_loss, test_acc*100))"
      ]
    },
    {
      "cell_type": "markdown",
      "metadata": {
        "id": "IJ6jvG3lXU_3"
      },
      "source": [
        "## Inference\n",
        "\n",
        "We'll now see how to use our model to tag actual sentences. This is similar to the inference function from the previous notebook with the tokenization changed to match the format of our pretrained model.\n",
        "\n",
        "If we pass in a string, this means we need to split it into individual tokens which we do by using the `tokenize` function of the `tokenizer`. Afterwards, numericalize our tokens the same way we did before, using `convert_tokens_to_ids`. Then, we add the `[CLS]` token index to the beginning of the sequence. \n",
        "\n",
        "**Note**: if we forget to add the `[CLS]` token our results will not be good!\n",
        "\n",
        "We then pass the text sequence through our model to get a prediction for each token and then slice off the predictions for the `[CLS]` token as we do not care about it."
      ]
    },
    {
      "cell_type": "code",
      "execution_count": null,
      "metadata": {
        "id": "WIOmo6FYXU_4"
      },
      "outputs": [],
      "source": [
        "# def tag_sentence(model, device, sentence, tokenizer, text_field, tag_field):\n",
        "    \n",
        "#     model.eval()\n",
        "    \n",
        "#     if isinstance(sentence, str):\n",
        "#         tokens = tokenizer.tokenize(sentence)\n",
        "#     else:\n",
        "#         tokens = sentence\n",
        "    \n",
        "#     numericalized_tokens = tokenizer.convert_tokens_to_ids(tokens)\n",
        "#     numericalized_tokens = [text_field.init_token] + numericalized_tokens\n",
        "        \n",
        "#     unk_idx = text_field.unk_token\n",
        "    \n",
        "#     unks = [t for t, n in zip(tokens, numericalized_tokens) if n == unk_idx]\n",
        "    \n",
        "#     token_tensor = torch.LongTensor(numericalized_tokens)\n",
        "    \n",
        "#     token_tensor = token_tensor.unsqueeze(-1).to(device)\n",
        "         \n",
        "#     predictions = model(token_tensor)\n",
        "    \n",
        "#     top_predictions = predictions.argmax(-1)\n",
        "    \n",
        "#     predicted_tags = [tag_field.vocab.itos[t.item()] for t in top_predictions]\n",
        "    \n",
        "#     predicted_tags = predicted_tags[1:]\n",
        "        \n",
        "#     assert len(tokens) == len(predicted_tags)\n",
        "    \n",
        "#     return tokens, predicted_tags, unks"
      ]
    },
    {
      "cell_type": "markdown",
      "metadata": {
        "id": "DEbdylXQXU_6"
      },
      "source": [
        "We can then run an example sentence through our model and receive the predicted tags."
      ]
    },
    {
      "cell_type": "code",
      "execution_count": null,
      "metadata": {
        "colab": {
          "base_uri": "https://localhost:8080/"
        },
        "id": "-NAjXntVXU_7",
        "outputId": "3e7778b5-c3ae-4eca-8aec-2c28a592053a"
      },
      "outputs": [
        {
          "name": "stdout",
          "output_type": "stream",
          "text": [
            "[]\n"
          ]
        }
      ],
      "source": [
        "# sentence = 'A rainha vai dar um discusso sobre o conflito na Síria amanhã.'\n",
        "\n",
        "# tokens, tags, unks = tag_sentence(model, \n",
        "#                                   device, \n",
        "#                                   sentence,\n",
        "#                                   tokenizer,\n",
        "#                                   TEXT, \n",
        "#                                   UD_TAGS)\n",
        "\n",
        "# print(unks)"
      ]
    },
    {
      "cell_type": "markdown",
      "metadata": {
        "id": "wLgBLolPXU_9"
      },
      "source": [
        "We can then print out the tokens and their corresponding tags.\n",
        "\n",
        "Notice how \"1pm\" in the input sequence has been converted to the two tokens \"1\" and \"##pm\". What's with the two hash symbols in front of the \"pm\"? This is due to the way the tokenizer tokenizes sentences. It uses something called [byte pair encoding](https://en.wikipedia.org/wiki/Byte_pair_encoding) to split words up into more common subsequences of characters."
      ]
    },
    {
      "cell_type": "code",
      "execution_count": null,
      "metadata": {
        "colab": {
          "base_uri": "https://localhost:8080/"
        },
        "id": "RHfrCjgIXU_-",
        "outputId": "748e3470-ae78-495b-f58e-1a740b479f29"
      },
      "outputs": [
        {
          "name": "stdout",
          "output_type": "stream",
          "text": [
            "Pred. Tag\tToken\n",
            "\n",
            "14\t\tThe\n",
            "14\t\tQueen\n",
            "14\t\tw\n",
            "14\t\t##ill\n",
            "14\t\tdel\n",
            "14\t\t##iver\n",
            "14\t\ta\n",
            "14\t\ts\n",
            "14\t\t##pe\n",
            "14\t\t##ech\n",
            "14\t\tab\n",
            "14\t\t##out\n",
            "14\t\tthe\n",
            "14\t\tconfl\n",
            "14\t\t##ic\n",
            "14\t\t##t\n",
            "3\t\tin\n",
            "14\t\tNorth\n",
            "14\t\tKo\n",
            "14\t\t##rea\n",
            "14\t\tat\n",
            "14\t\t1\n",
            "14\t\t##p\n",
            "14\t\t##m\n",
            "14\t\ttom\n",
            "14\t\t##orro\n",
            "14\t\t##w\n",
            "14\t\t.\n"
          ]
        }
      ],
      "source": [
        "# print(\"Pred. Tag\\tToken\\n\")\n",
        "\n",
        "# for token, tag in zip(tokens, tags):\n",
        "#     print(\"%s\\t\\t%s\" % (tag, token))"
      ]
    },
    {
      "cell_type": "markdown",
      "metadata": {
        "id": "RWHICgX2XVAA"
      },
      "source": [
        "We've now fine-tuned a BERT model for part-of-speech tagging! Well done us!"
      ]
    }
  ],
  "metadata": {
    "accelerator": "GPU",
    "colab": {
      "machine_shape": "hm",
      "name": "2 - Fine-tuning Pretrained Transformers for PoS Tagging.ipynb",
      "provenance": []
    },
    "kernelspec": {
      "display_name": "Python 3",
      "language": "python",
      "name": "python3"
    },
    "language_info": {
      "codemirror_mode": {
        "name": "ipython",
        "version": 3
      },
      "file_extension": ".py",
      "mimetype": "text/x-python",
      "name": "python",
      "nbconvert_exporter": "python",
      "pygments_lexer": "ipython3",
      "version": "3.10.12"
    }
  },
  "nbformat": 4,
  "nbformat_minor": 0
}
